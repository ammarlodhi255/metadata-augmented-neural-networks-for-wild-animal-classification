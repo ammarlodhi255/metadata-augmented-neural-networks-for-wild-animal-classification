{
 "cells": [
  {
   "cell_type": "code",
   "execution_count": 1,
   "metadata": {},
   "outputs": [],
   "source": [
    "import numpy as np"
   ]
  },
  {
   "cell_type": "code",
   "execution_count": 59,
   "metadata": {},
   "outputs": [
    {
     "name": "stdout",
     "output_type": "stream",
     "text": [
      "FP \t FN \t f1-score\n",
      "0.941 \t 0.957 \t 0.949\n",
      "0.993 \t 0.979 \t 0.986\n",
      "0.95 \t 0.962 \t 0.956\n",
      "0.922 \t 0.917 \t 0.919\n",
      "0.949 \t 0.947 \t 0.948\n",
      "0.917 \t 0.867 \t 0.892\n",
      "0.985 \t 0.987 \t 0.986\n",
      "0.844 \t 0.908 \t 0.875\n",
      "0.93 \t 0.946 \t 0.938\n",
      "0.95 \t 0.877 \t 0.912\n",
      "0.939 \t 0.92 \t 0.929\n",
      "0.872 \t 0.976 \t 0.921\n",
      "0.936 \t 0.907 \t 0.921\n",
      "0.889 \t 0.889 \t 0.889\n",
      "totals:\n",
      "FPR \t FNR\n",
      "0.019 \t 0.019\n"
     ]
    }
   ],
   "source": [
    "def prf(conf_mat):\n",
    "    n_classes = conf_mat.shape[0]\n",
    "    TPS = conf_mat.diagonal()\n",
    "    FPS = np.array([np.sum(conf_mat[:, i]) - TPS[i] for i in range(n_classes)])\n",
    "    FNS = np.array([np.sum(conf_mat[i, :]) - TPS[i] for i in range(n_classes)])\n",
    "    F1S = 2*TPS/(2*TPS + FPS + FNS)\n",
    "    \n",
    "    return TPS, FPS, FNS, F1S\n",
    "\n",
    "def cohen_kappa_score(conf_matrix):\n",
    "    n_classes = conf_matrix.shape[0]\n",
    "    \n",
    "    # Calculate observed accuracy (Po)\n",
    "    Po = np.trace(conf_matrix) / conf_matrix.sum()\n",
    "    \n",
    "    # Calculate expected accuracy (Pe)\n",
    "    Pe = sum((conf_matrix.sum(axis=0)[i] * conf_matrix.sum(axis=1)[i]) for i in range(n_classes)) / (conf_matrix.sum() ** 2)\n",
    "    \n",
    "    # Calculate Cohen's Kappa score (k)\n",
    "    k = (Po - Pe) / (1 - Pe)\n",
    "    \n",
    "    return k\n",
    "\n"
   ]
  },
  {
   "cell_type": "code",
   "execution_count": 84,
   "metadata": {},
   "outputs": [
    {
     "name": "stdout",
     "output_type": "stream",
     "text": [
      "1 totals:\n",
      "ACC \t FPR \t FNR \t kappa\n",
      "0.98 \t 0.01 \t 0.01 \t 0.976\n",
      "2 totals:\n",
      "ACC \t FPR \t FNR \t kappa\n",
      "0.979 \t 0.011 \t 0.011 \t 0.975\n",
      "3 totals:\n",
      "ACC \t FPR \t FNR \t kappa\n",
      "0.97 \t 0.015 \t 0.015 \t 0.964\n",
      "4 totals:\n",
      "ACC \t FPR \t FNR \t kappa\n",
      "0.963 \t 0.019 \t 0.019 \t 0.955\n",
      "5 totals:\n",
      "ACC \t FPR \t FNR \t kappa\n",
      "0.96 \t 0.021 \t 0.021 \t 0.951\n",
      "6 totals:\n",
      "ACC \t FPR \t FNR \t kappa\n",
      "0.965 \t 0.018 \t 0.018 \t 0.958\n",
      "7 totals:\n",
      "ACC \t FPR \t FNR \t kappa\n",
      "0.979 \t 0.011 \t 0.011 \t 0.975\n",
      "8 totals:\n",
      "ACC \t FPR \t FNR \t kappa\n",
      "0.986 \t 0.007 \t 0.007 \t 0.981\n",
      "9 totals:\n",
      "ACC \t FPR \t FNR \t kappa\n",
      "0.986 \t 0.007 \t 0.007 \t 0.981\n",
      "10 totals:\n",
      "ACC \t FPR \t FNR \t kappa\n",
      "0.965 \t 0.018 \t 0.018 \t 0.951\n",
      "11 totals:\n",
      "ACC \t FPR \t FNR \t kappa\n",
      "0.966 \t 0.017 \t 0.017 \t 0.952\n",
      "12 totals:\n",
      "ACC \t FPR \t FNR \t kappa\n",
      "0.965 \t 0.018 \t 0.018 \t 0.951\n",
      "13 totals:\n",
      "ACC \t FPR \t FNR \t kappa\n",
      "0.508 \t 0.326 \t 0.326 \t 0.1\n",
      "14 totals:\n",
      "ACC \t FPR \t FNR \t kappa\n",
      "0.963 \t 0.019 \t 0.019 \t 0.948\n",
      "15 totals:\n",
      "ACC \t FPR \t FNR \t kappa\n",
      "0.964 \t 0.018 \t 0.018 \t 0.95\n",
      "16 totals:\n",
      "ACC \t FPR \t FNR \t kappa\n",
      "0.963 \t 0.019 \t 0.019 \t 0.948\n"
     ]
    }
   ],
   "source": [
    "for i in np.arange(1, 17):\n",
    "    a = np.load(f\"./weights/NINA_{i}_confusion_matrix.npy\")\n",
    "\n",
    "    if(len(a.shape) > 2):\n",
    "        a = np.mean(a, axis=2)\n",
    "\n",
    "    kappa = cohen_kappa_score(a)\n",
    "    TPS, FPS, FNS, F1S = prf(a)\n",
    "\n",
    "    total_FP = FPS.sum()\n",
    "    total_FN = FNS.sum()\n",
    "    total = a.sum()\n",
    "    total_TP = TPS.sum()\n",
    "    FPR = total_FP / (total + total_TP)\n",
    "    FNR = total_FN / (total + total_TP)\n",
    "    F1_score = 2*total_TP/(2*total_TP + total_FP + total_FN)\n",
    "\n",
    "    print(i, \"totals:\\nACC \\t FPR \\t FNR \\t kappa\")\n",
    "    print(round(total_TP/total, 3), \"\\t\", round(FPR, 3), \"\\t\", round(FNR, 3), \"\\t\", round(kappa, 3))"
   ]
  },
  {
   "cell_type": "code",
   "execution_count": null,
   "metadata": {},
   "outputs": [],
   "source": []
  }
 ],
 "metadata": {
  "kernelspec": {
   "display_name": "pytorch",
   "language": "python",
   "name": "python3"
  },
  "language_info": {
   "codemirror_mode": {
    "name": "ipython",
    "version": 3
   },
   "file_extension": ".py",
   "mimetype": "text/x-python",
   "name": "python",
   "nbconvert_exporter": "python",
   "pygments_lexer": "ipython3",
   "version": "3.8.16"
  },
  "orig_nbformat": 4
 },
 "nbformat": 4,
 "nbformat_minor": 2
}
