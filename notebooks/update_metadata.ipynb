{
 "cells": [
  {
   "cell_type": "code",
   "execution_count": 11,
   "metadata": {},
   "outputs": [],
   "source": [
    "import json\n",
    "import os"
   ]
  },
  {
   "cell_type": "code",
   "execution_count": 12,
   "metadata": {},
   "outputs": [],
   "source": [
    "with open(\"/media/user-1/CameraTraps/NINA/backup_metadata.json\") as f:\n",
    "    metadata = json.load(f)\n",
    "    categories = metadata['categories']\n",
    "    annotations = metadata['annotations']\n"
   ]
  },
  {
   "cell_type": "code",
   "execution_count": 13,
   "metadata": {},
   "outputs": [],
   "source": [
    "raw_annot = []\n",
    "for file in os.listdir(\"/media/user-1/CameraTraps/NINA_raw/raw_metadata\"):\n",
    "    with open(\"/media/user-1/CameraTraps/NINA_raw/raw_metadata/\" + file) as f:\n",
    "        data = json.load(f)\n",
    "        raw_annot.extend(data)"
   ]
  },
  {
   "cell_type": "code",
   "execution_count": 14,
   "metadata": {},
   "outputs": [],
   "source": [
    "with open(\"../py/arter.json\") as f:\n",
    "    arter = json.load(f)\n",
    "art_dict = {}\n",
    "for val in arter:\n",
    "    art_dict[val['ArtID']] = val['Navn']"
   ]
  },
  {
   "cell_type": "code",
   "execution_count": 15,
   "metadata": {},
   "outputs": [],
   "source": [
    "translation = {\n",
    "    'annet': 'Other',\n",
    "    'Annet mårdyr': 'Other Mustelid',\n",
    "    'Annet pattedyr': 'Other Mammal',\n",
    "    'Bever': 'Beaver',\n",
    "    'Bjørkefink': 'Brambling',\n",
    "    'Bjørn': 'Bear',\n",
    "    'Blåmeis': 'Blue Tit',\n",
    "    'Bokfink': 'Chaffinch',\n",
    "    'Dompap': 'Bullfinch',\n",
    "    'Duetrost': 'Mistle Thrush',\n",
    "    'Dåhjort': 'Fallow Deer',\n",
    "    'Ekorn': 'Squirrel',\n",
    "    'Elg': 'Moose',\n",
    "    'Fjellrev': 'Arctic Fox',\n",
    "    'Flaggspett': 'Great Spotted Woodpecker',\n",
    "    'Fossekall': 'White-throated Dipper',\n",
    "    'Fugl': 'Bird',\n",
    "    'Fuglekonge': 'Goldcrest',\n",
    "    'Gaupe': 'Lynx',\n",
    "    'Gjerdesmett': 'Wren',\n",
    "    'Gravand': 'Shelduck',\n",
    "    'Grevling': 'Badger',\n",
    "    'Grønnfink': 'Greenfinch',\n",
    "    'Grønnsisik': 'Siskin',\n",
    "    'Grønnspett': 'Green Woodpecker',\n",
    "    'Gråfluesnapper': 'Spotted Flycatcher',\n",
    "    'Grågås': 'Greylag Goose',\n",
    "    'Gråhegre': 'Grey Heron',\n",
    "    'Gråtrost': 'Fieldfare',\n",
    "    'Gulspurv': 'Yellowhammer',\n",
    "    'Hare': 'Hare',\n",
    "    'Haukugle': 'Hawk Owl',\n",
    "    'Havørn': 'Sea Eagle',\n",
    "    'Hest': 'Horse',\n",
    "    'Hjort': 'Deer',\n",
    "    'Hund': 'Dog',\n",
    "    'Hønsehauk': 'Goshawk',\n",
    "    'Ilder': 'Polecat',\n",
    "    'Jerpe': 'Wood Grouse',\n",
    "    'Jerv': 'Wolverine',\n",
    "    'Kaie': 'Jackdaw',\n",
    "    'Kanadagås': 'Canada Goose',\n",
    "    'Katt': 'Cat',\n",
    "    'Kattugle': 'Tawny Owl',\n",
    "    'Kjernebiter': 'Hawfinch',\n",
    "    'Kjøttmeis': 'Great Tit',\n",
    "    'Kongeørn': 'Golden Eagle',\n",
    "    'Konglebit': 'Crossbill',\n",
    "    'Kråke': 'Crow',\n",
    "    'Laksand': 'Goosander',\n",
    "    'Lappugle': 'Great Grey Owl',\n",
    "    'Lavskrike': 'Siberian Jay',\n",
    "    'Linerle': 'Wagtail',\n",
    "    'Meis sp.': 'Tit sp.',\n",
    "    'Mink': 'Mink',\n",
    "    'Munk': 'Blackcap',\n",
    "    'Musvåk': 'Buzzard',\n",
    "    'Myrhauk': 'Marsh Hawk',\n",
    "    'Måltrost': 'Song Thrush',\n",
    "    'Mår': 'Marten',\n",
    "    'Nøttekråke': 'Nutcracker',\n",
    "    'Nøtteskrike': 'Jay',\n",
    "    'Orrfugl': 'Black Grouse',\n",
    "    'Oter': 'Otter',\n",
    "    'Piggsvin': 'Hedgehog',\n",
    "    'Ravn': 'Raven',\n",
    "    'Rein': 'Reindeer',\n",
    "    'Rev': 'Fox',\n",
    "    'Ringdue': 'Wood Pigeon',\n",
    "    'Ringtrost': 'Ring Ouzel',\n",
    "    'Rovfugl': 'Bird of Prey',\n",
    "    'Rugde': 'Woodcock',\n",
    "    'Rødstjert': 'Redstart',\n",
    "    'Rødstrupe': 'Robin',\n",
    "    'Rødvingetrost': 'Redwing',\n",
    "    'Røyskatt': 'Stoat',\n",
    "    'Rådyr': 'Roe Deer',\n",
    "    'Sangsvane': 'Whooper Swan',\n",
    "    'Sau': 'Sheep',\n",
    "    'Skjære': 'Magpie',\n",
    "    'Skogshøns': 'Grouse',\n",
    "    'Smågnager': 'Small Rodent',\n",
    "    'Snømus': 'Lemmings',\n",
    "    'Spettmeis': 'Nuthatch',\n",
    "    'Spurvehauk': 'Sparrowhawk',\n",
    "    'Stokkand': 'Mallard',\n",
    "    'Storfe': 'Cattle',\n",
    "    'Storfugl': 'Capercaillie',\n",
    "    'Stær': 'Starling',\n",
    "    'Svarthvit fluesnapper': 'Pied Flycatcher',\n",
    "    'Svartspett': 'Black Woodpecker',\n",
    "    'Svarttrost': 'Blackbird',\n",
    "    'Sørhare': 'Southern Hare',\n",
    "    'Tornskate': 'Red-backed Shrike',\n",
    "    'Trane': 'Crane',\n",
    "    'Trost sp.': 'Thrush sp.',\n",
    "    'Ukjent': 'Unknown',\n",
    "    'Ulv': 'Wolf',\n",
    "    'Vandrefalk': 'Peregrine Falcon',\n",
    "    'Villsvin': 'Wild Boar'\n",
    "}"
   ]
  },
  {
   "cell_type": "code",
   "execution_count": 16,
   "metadata": {},
   "outputs": [
    {
     "data": {
      "text/plain": [
       "{'T_Art': None,\n",
       " 'T_MediaType': None,\n",
       " 'Lokalitet': None,\n",
       " 'MediaID': 411106,\n",
       " 'FK_KameraID': None,\n",
       " 'Filnavn': '96624a46-4bc6-46c9-9770-370bf6d84718.jpg',\n",
       " 'Tekst': 'Rev 22.07.2022',\n",
       " 'Dato': '2022-07-22T23:26:33',\n",
       " 'FK_ArtID': 3,\n",
       " 'Antall': 1,\n",
       " 'GaupeID': None,\n",
       " 'FK_MediaTypeID': 1,\n",
       " 'FK_LokalitetID': 4667,\n",
       " 'Orgfilnavn': '4667_20220804 (5365).JPG',\n",
       " 'CameraType': 'RECONYX',\n",
       " 'CameraModel': 'PC900 PROFESSIONAL',\n",
       " 'Temperatur': '12',\n",
       " 'metadataID': None,\n",
       " 'DateCorrected': None,\n",
       " 'BatteryVoltage': '7,57',\n",
       " 'ProjectID': '13546',\n",
       " 'EventID': '1762387',\n",
       " 'SerialNumber': 'P900HJ03251824',\n",
       " 'MotionSensitivity': '100',\n",
       " 'ExposureTime': '0,03333333333',\n",
       " 'ISO': '250',\n",
       " 'Brightness': '0',\n",
       " 'Contrast': '160',\n",
       " 'InfraredIlluminator': '1',\n",
       " 'Sharpness': '32',\n",
       " 'Saturation': '0',\n",
       " 'Megapixels': '3,145728',\n",
       " 'DateLastModified': '2023-04-14T12:14:45.733',\n",
       " 'Modified': None,\n",
       " 'Dato_old': None,\n",
       " 'latitude': 62.99270342525356,\n",
       " 'longitude': 8.852750551511205}"
      ]
     },
     "execution_count": 16,
     "metadata": {},
     "output_type": "execute_result"
    }
   ],
   "source": [
    "raw_annot[0]"
   ]
  },
  {
   "cell_type": "code",
   "execution_count": 17,
   "metadata": {},
   "outputs": [],
   "source": [
    "fn = []\n",
    "for anot in raw_annot:\n",
    "    fn.append(anot['Filnavn'])"
   ]
  },
  {
   "cell_type": "code",
   "execution_count": 18,
   "metadata": {},
   "outputs": [],
   "source": [
    "new_annots = []\n",
    "for anot in annotations:\n",
    "    idx = fn.index(anot['Filename'])\n",
    "    anot['Species_ID'] = raw_annot[idx]['FK_ArtID']\n",
    "    anot['Species'] = translation[art_dict[raw_annot[idx]['FK_ArtID']]]\n",
    "    new_annots.append(anot)"
   ]
  },
  {
   "cell_type": "code",
   "execution_count": 19,
   "metadata": {},
   "outputs": [],
   "source": [
    "from collections import defaultdict\n",
    "new_categories = defaultdict(int)\n",
    "for anot in new_annots:\n",
    "    new_categories[anot['Species']] += 1\n",
    "\n",
    "d = {}\n",
    "for key in new_categories.keys():\n",
    "    d[key] = new_categories[key]"
   ]
  },
  {
   "cell_type": "code",
   "execution_count": 21,
   "metadata": {},
   "outputs": [
    {
     "data": {
      "text/plain": [
       "{'Fox': 22168,\n",
       " 'Roe Deer': 56143,\n",
       " 'Badger': 20647,\n",
       " 'Bird': 6882,\n",
       " 'Lynx': 4002,\n",
       " 'Deer': 12253,\n",
       " 'Moose': 14633,\n",
       " 'Cat': 1638,\n",
       " 'Sheep': 5011,\n",
       " 'Squirrel': 5819,\n",
       " 'Marten': 2352,\n",
       " 'Woodcock': 287,\n",
       " 'Hare': 12490,\n",
       " 'Grouse': 429,\n",
       " 'Blackbird': 511,\n",
       " 'Jay': 59,\n",
       " 'Great Tit': 266,\n",
       " 'Small Rodent': 721,\n",
       " 'Cattle': 466,\n",
       " 'Wild Boar': 393,\n",
       " 'Bird of Prey': 6,\n",
       " 'Wood Pigeon': 286,\n",
       " 'Nuthatch': 4,\n",
       " 'Tit sp.': 61,\n",
       " 'Song Thrush': 124,\n",
       " 'Thrush sp.': 124,\n",
       " 'Capercaillie': 448,\n",
       " 'Wolf': 1256,\n",
       " 'Wolverine': 274,\n",
       " 'Bear': 115,\n",
       " 'Black Grouse': 42,\n",
       " 'Tawny Owl': 8,\n",
       " 'Blue Tit': 32,\n",
       " 'Other Mustelid': 33,\n",
       " 'Stoat': 11,\n",
       " 'Buzzard': 7,\n",
       " 'Wood Grouse': 60,\n",
       " 'Crow': 12,\n",
       " 'Magpie': 170,\n",
       " 'Canada Goose': 2,\n",
       " 'Crane': 32,\n",
       " 'Fieldfare': 49,\n",
       " 'Pied Flycatcher': 12,\n",
       " 'Fallow Deer': 9,\n",
       " 'Black Woodpecker': 20,\n",
       " 'Great Spotted Woodpecker': 10,\n",
       " 'Redwing': 52,\n",
       " 'Bullfinch': 14,\n",
       " 'Southern Hare': 62,\n",
       " 'Lemmings': 3,\n",
       " 'Raven': 54,\n",
       " 'Grey Heron': 2,\n",
       " 'Peregrine Falcon': 1,\n",
       " 'Mink': 5,\n",
       " 'Polecat': 10,\n",
       " 'Chaffinch': 15,\n",
       " 'Mistle Thrush': 19,\n",
       " 'Robin': 9,\n",
       " 'Green Woodpecker': 1,\n",
       " 'Great Grey Owl': 1,\n",
       " 'Reindeer': 1,\n",
       " 'Nutcracker': 3,\n",
       " 'Siberian Jay': 2,\n",
       " 'Greenfinch': 1,\n",
       " 'Spotted Flycatcher': 1}"
      ]
     },
     "execution_count": 21,
     "metadata": {},
     "output_type": "execute_result"
    }
   ],
   "source": [
    "d"
   ]
  },
  {
   "cell_type": "code",
   "execution_count": 22,
   "metadata": {},
   "outputs": [],
   "source": [
    "metadata['annotations'] = new_annots\n",
    "metadata['categories'] = d"
   ]
  },
  {
   "cell_type": "code",
   "execution_count": 23,
   "metadata": {},
   "outputs": [],
   "source": [
    "with open(\"/media/user-1/CameraTraps/NINA/Images/fuller_metadata.json\", \"w\") as f:\n",
    "    json.dump(metadata, f)"
   ]
  },
  {
   "cell_type": "code",
   "execution_count": null,
   "metadata": {},
   "outputs": [],
   "source": []
  }
 ],
 "metadata": {
  "kernelspec": {
   "display_name": "pytorch",
   "language": "python",
   "name": "python3"
  },
  "language_info": {
   "codemirror_mode": {
    "name": "ipython",
    "version": 3
   },
   "file_extension": ".py",
   "mimetype": "text/x-python",
   "name": "python",
   "nbconvert_exporter": "python",
   "pygments_lexer": "ipython3",
   "version": "3.8.16"
  },
  "orig_nbformat": 4
 },
 "nbformat": 4,
 "nbformat_minor": 2
}
