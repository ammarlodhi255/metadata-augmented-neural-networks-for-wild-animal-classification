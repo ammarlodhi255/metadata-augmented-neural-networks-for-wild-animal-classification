{
 "cells": [
  {
   "cell_type": "code",
   "execution_count": 13,
   "metadata": {},
   "outputs": [],
   "source": [
    "import json\n",
    "from PIL import Image\n",
    "import numpy as np\n",
    "import math\n",
    "from albumentations import (\n",
    "    Compose,\n",
    "    HorizontalFlip,\n",
    "    VerticalFlip,\n",
    "    Rotate,\n",
    "    RandomBrightnessContrast,\n",
    "    RandomGamma,\n",
    "    RandomSizedBBoxSafeCrop,\n",
    "    HueSaturationValue,\n",
    ")"
   ]
  },
  {
   "cell_type": "code",
   "execution_count": 2,
   "metadata": {},
   "outputs": [],
   "source": [
    "with open(\"/media/user-1/CameraTraps/NINA/Images/metadata.json\") as f:\n",
    "    metadata = json.load(f)"
   ]
  },
  {
   "cell_type": "code",
   "execution_count": 3,
   "metadata": {},
   "outputs": [],
   "source": [
    "categories = metadata['categories']\n",
    "annotations = metadata['annotations']"
   ]
  },
  {
   "cell_type": "code",
   "execution_count": 20,
   "metadata": {},
   "outputs": [],
   "source": [
    "maxVal = np.array(list(categories.values())).max()\n",
    "class_split = {}\n",
    "for key in categories.keys():\n",
    "    augs = min(math.floor(maxVal/categories[key]), 50)\n",
    "    class_split[key] = [augs, []]\n",
    "\n",
    "for anot in annotations:\n",
    "    class_split[anot['Species']][1].append(anot)"
   ]
  },
  {
   "cell_type": "code",
   "execution_count": null,
   "metadata": {},
   "outputs": [],
   "source": [
    "def get_albumentation_transform(num_augs):\n",
    "    return Compose([\n",
    "        HorizontalFlip(p=0.5 if num_augs > 0 else 0),\n",
    "        VerticalFlip(p=0.5 if num_augs > 1 else 0),\n",
    "        Rotate(limit=20, p=0.5 if num_augs > 2 else 0),\n",
    "        RandomBrightnessContrast(brightness_limit=0.1, contrast_limit=0.1, p=0.5 if num_augs > 3 else 0),\n",
    "        RandomGamma(gamma_limit=(80, 120), p=0.5 if num_augs > 4 else 0),\n",
    "        RandomSizedBBoxSafeCrop(224, 224, erosion_rate=0.0, interpolation=1, p=0.5 if num_augs > 5 else 0),\n",
    "        HueSaturationValue(hue_shift_limit=10, sat_shift_limit=10, val_shift_limit=10, p=0.5 if num_augs > 6 else 0),\n",
    "    ], p=1)"
   ]
  },
  {
   "cell_type": "code",
   "execution_count": 25,
   "metadata": {},
   "outputs": [
    {
     "name": "stdout",
     "output_type": "stream",
     "text": [
      "3\n",
      "1\n",
      "3\n",
      "8\n",
      "20\n",
      "50\n",
      "16\n",
      "14\n",
      "6\n",
      "50\n",
      "50\n",
      "50\n",
      "50\n",
      "50\n"
     ]
    }
   ],
   "source": [
    "for key in class_split.keys():\n",
    "    augs = int(class_split[key][0])\n",
    "    print(augs)\n",
    "    if(augs > 1):\n",
    "        for entry in class_split[key][1]:\n",
    "            pass"
   ]
  }
 ],
 "metadata": {
  "kernelspec": {
   "display_name": "pytorch",
   "language": "python",
   "name": "python3"
  },
  "language_info": {
   "codemirror_mode": {
    "name": "ipython",
    "version": 3
   },
   "file_extension": ".py",
   "mimetype": "text/x-python",
   "name": "python",
   "nbconvert_exporter": "python",
   "pygments_lexer": "ipython3",
   "version": "3.8.16"
  },
  "orig_nbformat": 4
 },
 "nbformat": 4,
 "nbformat_minor": 2
}
