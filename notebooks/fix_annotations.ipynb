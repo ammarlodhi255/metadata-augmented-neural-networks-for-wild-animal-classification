{
 "cells": [
  {
   "cell_type": "code",
   "execution_count": 11,
   "metadata": {},
   "outputs": [],
   "source": [
    "import json\n",
    "from collections import defaultdict\n",
    "import numpy as np"
   ]
  },
  {
   "cell_type": "code",
   "execution_count": 6,
   "metadata": {},
   "outputs": [],
   "source": [
    "with open(\"/media/user-1/CameraTraps/NINA/Images/metadata.json\") as f:\n",
    "    metadata = json.load(f)"
   ]
  },
  {
   "cell_type": "code",
   "execution_count": 3,
   "metadata": {},
   "outputs": [
    {
     "data": {
      "text/plain": [
       "'rev'"
      ]
     },
     "execution_count": 3,
     "metadata": {},
     "output_type": "execute_result"
    }
   ],
   "source": [
    "metadata['annotations'][0]['Species']"
   ]
  },
  {
   "cell_type": "code",
   "execution_count": 7,
   "metadata": {},
   "outputs": [],
   "source": [
    "dictionary = {\n",
    "    'hare': 'Rabbit',\n",
    "    'rev': 'Fox',\n",
    "    'ekorn': \"Squirrel\",\n",
    "    'hjortdyr': \"Deer\",\n",
    "    'rã¥dyr': \"Deer\",\n",
    "    'gaupe': \"Lynx\",\n",
    "    \"grevling\": \"Weasel\",\n",
    "    \"fugl\": \"Bird\",\n",
    "    \"mã¥r\": \"Weasel\",\n",
    "    'ulv': \"Wolf\",\n",
    "    \"mårdyr\": \"Weasel\",\n",
    "    \"katt\": \"Cat\",\n",
    "    \"smã¥gnager\": \"Rodent\",\n",
    "    \"skogshã¸ns\": \"Bird\",\n",
    "    \"nã¸tteskrike\": \"Bird\",\n",
    "    'bjã¸rn': \"Bear\",\n",
    "    'villsvin': \"Boar\",\n",
    "    'sau': \"Sheep\",\n",
    "    'storfe': \"Cattle\",\n",
    "    'skjã¦re': \"Bird\",\n",
    "    \"smågnager\": \"Rodent\",\n",
    "    'bjørn': \"Bear\"\n",
    "}\n"
   ]
  },
  {
   "cell_type": "code",
   "execution_count": 8,
   "metadata": {},
   "outputs": [],
   "source": [
    "d = defaultdict(int)\n",
    "categories = metadata['categories']\n",
    "annotations = metadata['annotations']\n",
    "for entry in annotations:\n",
    "    entry['Species'] = dictionary[entry['Species']]\n",
    "    d[entry['Species']] += 1"
   ]
  },
  {
   "cell_type": "code",
   "execution_count": 9,
   "metadata": {},
   "outputs": [],
   "source": [
    "categories = {}\n",
    "for key in d.keys():\n",
    "    categories[key] = d[key]"
   ]
  },
  {
   "cell_type": "code",
   "execution_count": 16,
   "metadata": {},
   "outputs": [],
   "source": [
    "keys = list(categories.keys())\n",
    "\n",
    "l = []\n",
    "for entry in annotations:\n",
    "    entry['Species_ID'] = keys.index(entry['Species'])\n",
    "    l.append(entry['Species_ID'])\n",
    "\n",
    "l = np.unique(np.array(l))"
   ]
  },
  {
   "cell_type": "code",
   "execution_count": 18,
   "metadata": {},
   "outputs": [],
   "source": [
    "metadata = {'categories': categories, 'annotations': annotations}"
   ]
  },
  {
   "cell_type": "code",
   "execution_count": 19,
   "metadata": {},
   "outputs": [],
   "source": [
    "with open(\"/media/user-1/CameraTraps/NINA/Images/metadata.json\", \"w\") as f:\n",
    "    json.dump(metadata, f)"
   ]
  },
  {
   "cell_type": "code",
   "execution_count": null,
   "metadata": {},
   "outputs": [],
   "source": []
  }
 ],
 "metadata": {
  "kernelspec": {
   "display_name": "pytorch39",
   "language": "python",
   "name": "python3"
  },
  "language_info": {
   "codemirror_mode": {
    "name": "ipython",
    "version": 3
   },
   "file_extension": ".py",
   "mimetype": "text/x-python",
   "name": "python",
   "nbconvert_exporter": "python",
   "pygments_lexer": "ipython3",
   "version": "3.8.16"
  },
  "orig_nbformat": 4
 },
 "nbformat": 4,
 "nbformat_minor": 2
}
