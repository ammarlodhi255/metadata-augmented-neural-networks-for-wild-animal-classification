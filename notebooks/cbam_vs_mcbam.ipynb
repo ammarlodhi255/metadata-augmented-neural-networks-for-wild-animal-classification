{
 "cells": [
  {
   "cell_type": "code",
   "execution_count": 5,
   "metadata": {},
   "outputs": [],
   "source": [
    "import numpy as np\n",
    "import sklearn.metrics as metrics"
   ]
  },
  {
   "cell_type": "code",
   "execution_count": 6,
   "metadata": {},
   "outputs": [],
   "source": [
    "cbam = np.load(\"../py/weights/confusion_matrix_48.npy\")\n",
    "mcbam = np.load(\"../py/weights/confusion_matrix_49.npy\")\n"
   ]
  },
  {
   "cell_type": "code",
   "execution_count": 47,
   "metadata": {},
   "outputs": [],
   "source": [
    "def matr_to_y_true_pred(matr):\n",
    "    y_true = []\n",
    "    y_pred = []\n",
    "    t = 0\n",
    "    for line in matr:\n",
    "        p = 0\n",
    "        for val in line:\n",
    "            for i in range(val):\n",
    "                y_true.append(t)\n",
    "                y_pred.append(p)\n",
    "            p += 1\n",
    "        t += 1\n",
    "    return y_true, y_pred\n",
    "\n",
    "def scores(matr):\n",
    "    y_true, y_pred = matr_to_y_true_pred(matr)\n",
    "    cnf_matrix = metrics.confusion_matrix(y_true, y_pred)\n",
    "    FP = cnf_matrix.sum(axis=0) - np.diag(cnf_matrix)  \n",
    "    FN = cnf_matrix.sum(axis=1) - np.diag(cnf_matrix)\n",
    "    TP = np.diag(cnf_matrix)\n",
    "    TN = cnf_matrix.sum() - (FP + FN + TP)\n",
    "\n",
    "    FP = FP.astype(float)\n",
    "    FN = FN.astype(float)\n",
    "    TP = TP.astype(float)\n",
    "    TN = TN.astype(float)\n",
    "\n",
    "    # Sensitivity, hit rate, recall, or true positive rate\n",
    "    TPR = TP/(TP+FN)\n",
    "    # Specificity or true negative rate\n",
    "    TNR = TN/(TN+FP) \n",
    "    # Precision or positive predictive value\n",
    "    PPV = TP/(TP+FP)\n",
    "    # Negative predictive value\n",
    "    NPV = TN/(TN+FN)\n",
    "    # Fall out or false positive rate\n",
    "    FPR = FP/(FP+TN)\n",
    "    # False negative rate\n",
    "    FNR = FN/(TP+FN)\n",
    "    # False discovery rate\n",
    "    FDR = FP/(TP+FP)\n",
    "    # Overall accuracy\n",
    "    ACC = (TP+TN)/(TP+FP+FN+TN)\n",
    "\n",
    "    overall_accuracy = round((TP.sum() + TN.sum()) / (TP.sum() + TN.sum() + FP.sum() + FN.sum()), 3)\n",
    "    precision = TP / (TP + FP)\n",
    "    recall = TP / (TP + FN)\n",
    "    f1_score = 2 * precision * recall / (precision + recall)\n",
    "    macro_precision = np.round(np.mean(precision), 3)\n",
    "    macro_recall = np.round(np.mean(recall), 3)\n",
    "    macro_f1_score = np.round(np.mean(f1_score), 3)\n",
    "\n",
    "    FPR = np.round(np.mean(FPR), 3)\n",
    "    FNR = np.round(np.mean(FNR), 3)\n",
    "\n",
    "    kappa = round(metrics.cohen_kappa_score(y_true, y_pred), 3)\n",
    "    acc = np.round(metrics.accuracy_score(y_true, y_pred), 3)\n",
    "    prec = np.round(metrics.precision_score(y_true, y_pred, average=\"macro\"), 3)\n",
    "    rec = np.round(metrics.recall_score(y_true, y_pred, average=\"macro\"), 3)\n",
    "    f1 = np.round(metrics.f1_score(y_true, y_pred, average=\"macro\"), 3)\n",
    "\n",
    "    print(\"acc:\\t\\t\\t\", overall_accuracy, acc)\n",
    "    print(\"Prec | recall | f1:\\t\", prec, macro_precision, \"|\", rec, macro_recall, \"|\", f1, macro_f1_score)\n",
    "    print(\"FPR | FNR:\\t\\t\", FPR, \"|\", FNR)\n",
    "    print(\"kappa:\\t\\t\\t\", kappa)\n",
    "\n"
   ]
  },
  {
   "cell_type": "code",
   "execution_count": 48,
   "metadata": {},
   "outputs": [
    {
     "name": "stdout",
     "output_type": "stream",
     "text": [
      "acc:\t\t\t 0.969 0.795\n",
      "Prec | recall | f1:\t 0.703 0.703 | 0.783 0.783 | 0.735 0.735\n",
      "FPR | FNR:\t\t 0.018 | 0.217\n",
      "kappa:\t\t\t 0.758\n"
     ]
    }
   ],
   "source": [
    "scores(mcbam)"
   ]
  },
  {
   "cell_type": "code",
   "execution_count": 15,
   "metadata": {},
   "outputs": [],
   "source": [
    "y_true, y_pred = matr_to_y_true_pred(cbam)"
   ]
  },
  {
   "cell_type": "code",
   "execution_count": 27,
   "metadata": {},
   "outputs": [
    {
     "name": "stdout",
     "output_type": "stream",
     "text": [
      "[0, 0, 0, 0, 0, 0, 0, 0, 0, 0] [0, 0, 0, 0, 0]\n"
     ]
    }
   ],
   "source": [
    "print(y_true[2190:2200], y_pred[1533:1538])\n"
   ]
  },
  {
   "cell_type": "code",
   "execution_count": 31,
   "metadata": {},
   "outputs": [
    {
     "data": {
      "text/plain": [
       "array([[1642,  128,   34,   42,   81,   12,   16,    2,   34,  150,    1,\n",
       "          54,    6],\n",
       "       [ 177, 4662,   15,  102,  105,  160,   96,   10,   72,  135,    4,\n",
       "          81,    2],\n",
       "       [ 128,   33, 1833,   70,   49,   11,   11,    6,   33,  143,    3,\n",
       "          13,    5],\n",
       "       [   7,   18,    5,  826,   18,    5,    6,    2,   84,   28,    0,\n",
       "           5,    0],\n",
       "       [  38,   28,    6,   10,  427,    8,    2,    2,    3,   20,    1,\n",
       "           6,    0],\n",
       "       [  21,  141,    1,    5,   10,  925,   40,    4,    0,   15,    2,\n",
       "           3,    0],\n",
       "       [  11,   75,    4,   16,   22,   97, 1277,    7,    3,   27,    4,\n",
       "          11,    7],\n",
       "       [   4,   15,    0,    4,    9,    5,    9,  481,    1,    3,    1,\n",
       "           2,    2],\n",
       "       [  15,   21,   14,  129,   12,    3,    2,    0,  447,   14,    0,\n",
       "           1,    0],\n",
       "       [  24,   28,   10,   47,   25,    7,    6,    3,   15, 1071,    0,\n",
       "          16,    1],\n",
       "       [   0,    0,    1,    0,    0,    1,    1,    0,    0,    2,   33,\n",
       "           0,    1],\n",
       "       [   6,    2,    0,    1,    3,    2,    1,    0,    0,    1,    0,\n",
       "         107,    0],\n",
       "       [   1,    1,    0,    1,    1,    0,    0,    0,    0,    0,    1,\n",
       "           0,    6]])"
      ]
     },
     "execution_count": 31,
     "metadata": {},
     "output_type": "execute_result"
    }
   ],
   "source": [
    "cbam"
   ]
  },
  {
   "cell_type": "code",
   "execution_count": 28,
   "metadata": {},
   "outputs": [
    {
     "name": "stdout",
     "output_type": "stream",
     "text": [
      "2202\n"
     ]
    }
   ],
   "source": [
    "itr = 0\n",
    "for val in y_true:\n",
    "    if val == 1:\n",
    "        print(itr)\n",
    "        break\n",
    "    itr += 1"
   ]
  },
  {
   "cell_type": "code",
   "execution_count": 32,
   "metadata": {},
   "outputs": [
    {
     "data": {
      "text/plain": [
       "array([1642,  128,   34,   42,   81,   12,   16,    2,   34,  150,    1,\n",
       "         54,    6])"
      ]
     },
     "execution_count": 32,
     "metadata": {},
     "output_type": "execute_result"
    }
   ],
   "source": [
    "cbam[0, :]"
   ]
  }
 ],
 "metadata": {
  "kernelspec": {
   "display_name": "pytorch",
   "language": "python",
   "name": "python3"
  },
  "language_info": {
   "codemirror_mode": {
    "name": "ipython",
    "version": 3
   },
   "file_extension": ".py",
   "mimetype": "text/x-python",
   "name": "python",
   "nbconvert_exporter": "python",
   "pygments_lexer": "ipython3",
   "version": "3.8.16"
  },
  "orig_nbformat": 4
 },
 "nbformat": 4,
 "nbformat_minor": 2
}
