{
 "cells": [
  {
   "cell_type": "code",
   "execution_count": 1,
   "metadata": {},
   "outputs": [],
   "source": [
    "import os\n",
    "from PIL import Image\n",
    "import json\n",
    "from datetime import datetime\n",
    "import matplotlib.pyplot as plt"
   ]
  },
  {
   "cell_type": "code",
   "execution_count": 2,
   "metadata": {},
   "outputs": [],
   "source": [
    "with open(\"/media/user-1/CameraTraps/NINA/combined.json\", encoding='utf-8') as fh:\n",
    "    data = json.load(fh)"
   ]
  },
  {
   "cell_type": "code",
   "execution_count": 3,
   "metadata": {},
   "outputs": [],
   "source": [
    "def is_valid_date(date_string): # used to check if string contains a date\n",
    "    try:\n",
    "        datetime.strptime(date_string, '%d.%m.%Y')\n",
    "        return True\n",
    "    except ValueError:\n",
    "        return False\n"
   ]
  },
  {
   "cell_type": "code",
   "execution_count": 4,
   "metadata": {},
   "outputs": [
    {
     "name": "stdout",
     "output_type": "stream",
     "text": [
      "{'ekorn': 5564, 'rådyr': 54181, 'elg': 13969, 'rev': 20859, 'gaupe': 3703, 'hare': 11915, 'grevling': 18880, 'fugl': 6443, 'mår': 2199, 'rugde': 284, 'svarttrost': 512, 'ulv': 1208, 'annet pattedyr': 140, 'kjøttmeis': 263, 'katt': 1623, 'hjort': 10227, 'sau': 4836, 'skogshøns': 381, 'nøtteskrike': 59, 'ringdue': 284, 'bjørn': 115, 'jerpe': 59, 'meis': 61, 'storfugl': 446, 'villsvin': 374, 'jerv': 261, 'trost': 124, 'måltrost': 124, 'smågnager': 699, 'storfe': 456, 'skjære': 168, 'sørhare': 61}\n"
     ]
    }
   ],
   "source": [
    "classes = {}\n",
    "metadata = []\n",
    "for d in data:\n",
    "\n",
    "    valid = True\n",
    "    c = \"\"\n",
    "    if(d['Filnavn'].split(\".\")[-1].lower() == \"mp4\"):\n",
    "        continue\n",
    "    if(d['Tekst'] != None and len(d['Tekst']) > 0): # remove entries where class label is missing\n",
    "        t = d['Tekst']\n",
    "        t = t.split(\" \")\n",
    "        date = t[-1]\n",
    "        if(is_valid_date(date)):\n",
    "            t = d['Tekst']\n",
    "            t = t.split(\" \")\n",
    "            c = (\" \".join(t[:-1])).lower()\n",
    "\n",
    "        else:\n",
    "            if(\"Rev\" in t):\n",
    "                c = 'rev'\n",
    "            elif('gaupe' in t or \"hanngaupe\" in t or \"Gaupe\" in t):\n",
    "                c = 'gaupe'\n",
    "            elif(\"Ekorn\" in t):\n",
    "                c = \"ekorn\"\n",
    "            elif(\"Hare\" in t):\n",
    "                c = \"hare\"\n",
    "            elif(\"Mår\" in t):\n",
    "                c = \"mår\"\n",
    "            elif(\"Grevling\" in t):\n",
    "                c = \"grevling\"\n",
    "            elif(\"ulv\" in t):\n",
    "                c = \"ulv\"\n",
    "            elif(\"Rådyr\" in t):\n",
    "                c = \"rådyr\"\n",
    "            elif(\"Elg\" in t):\n",
    "                c = \"elg\"\n",
    "            elif(\"Katt\" in t):\n",
    "                c = \"katt\"\n",
    "            else: # all images that don't have clean labels\n",
    "                valid=False # most likely invalid format or unknown species\n",
    "                for s in t: # check if it's a lynx\n",
    "                    if len(s) == 4 and s[0].isalpha() and s[1:].isdigit():\n",
    "                        c = 'gaupe'\n",
    "                        valid=True # since it is a lynx the datapoint is again valid\n",
    "                        break\n",
    "                if(not valid):\n",
    "                    pass\n",
    "\n",
    "\n",
    "    if(valid):\n",
    "        if(len(c) > 1 and c != \"ukjent\"):\n",
    "            # create new metadata structure\n",
    "            datapoint = {}\n",
    "            datapoint[\"Dato\"] = d['Dato']\n",
    "            datapoint['Temperatur'] = d['Temperatur']\n",
    "            datapoint['CameraType'] = d['CameraType']\n",
    "            datapoint['CameraModel'] = d['CameraModel']\n",
    "            datapoint['Filnavn'] = d['Filnavn']\n",
    "            datapoint['ExposureTime'] = d['ExposureTime']\n",
    "            datapoint['ISO'] = d['ISO']\n",
    "            datapoint['Brightness'] = d['Brightness']\n",
    "            datapoint['Contrast'] = d['Contrast']\n",
    "            datapoint['Sharpness'] = d['Sharpness']\n",
    "            datapoint['Saturation'] = d['Saturation']\n",
    "            datapoint['species'] = c\n",
    "\n",
    "            # append to metadata list\n",
    "            metadata.append(datapoint)\n",
    "\n",
    "            if(c not in classes.keys()):\n",
    "                classes[c] = 1\n",
    "            else:\n",
    "                classes[c] += 1\n",
    " \n",
    "maxNum = 0\n",
    "for key in classes.keys():\n",
    "    maxNum = max(maxNum, classes[key])\n",
    "\n",
    "newClasses = {}\n",
    "for key in classes.keys():\n",
    "    if(classes[key] > maxNum//1000): # remove all class entries which does not have at least .1% samples compared to majority class\n",
    "        newClasses[key] = classes[key]\n",
    "classes = newClasses\n",
    "print(classes)"
   ]
  },
  {
   "cell_type": "code",
   "execution_count": 5,
   "metadata": {},
   "outputs": [
    {
     "name": "stdout",
     "output_type": "stream",
     "text": [
      "161021\n",
      "160478\n"
     ]
    }
   ],
   "source": [
    "new_metadata = []\n",
    "for datapoint in metadata: # remove classes from metadata object with few species\n",
    "    if(datapoint['species'] in classes.keys()):\n",
    "        new_metadata.append(datapoint)\n",
    "\n",
    "print(len(metadata))\n",
    "metadata=new_metadata\n",
    "print(len(metadata))"
   ]
  },
  {
   "cell_type": "code",
   "execution_count": 6,
   "metadata": {},
   "outputs": [],
   "source": [
    "def find_image_path(path, filename):\n",
    "    for root, dirs, files in os.walk(path):\n",
    "        if filename in files:\n",
    "            return os.path.join(root, filename)\n",
    "    return None  # File not found"
   ]
  },
  {
   "cell_type": "code",
   "execution_count": 7,
   "metadata": {},
   "outputs": [
    {
     "name": "stdout",
     "output_type": "stream",
     "text": [
      "Could not Read image: /home/user-1/prog/CameraTraps/NINA/images/Rådyr/7e1f0854-3c78-401a-b55c-e9f069307bb1.jpg\n",
      "Could not Read image: /home/user-1/prog/CameraTraps/NINA/images/Rev/b121d084-cdcc-4548-ba39-39dc12a2b926.jpg\n",
      "Could not Read image: /home/user-1/prog/CameraTraps/NINA/images/117_20121226_0642_M314_L (2)_20150504134314.jpg\n",
      "Could not Read image: /home/user-1/prog/CameraTraps/NINA/images/Sanns./361_20160601_0101_ULV (2)_20160728192414.jpg\n",
      "Could not Read image: /home/user-1/prog/CameraTraps/NINA/images/Sanns./361_20160502_2140_ULV (1)_20160728192225.jpg\n",
      "160473\n"
     ]
    }
   ],
   "source": [
    "input_folder = \"/home/user-1/prog/CameraTraps/NINA/images/\"\n",
    "output_folder = \"/media/user-1/CameraTraps/NINA\"\n",
    "final_metadata = [] # used to track which images are copied over \n",
    "for datapoint in metadata: # copy images over to SSD\n",
    "    filename = datapoint['Filnavn']\n",
    "    full_path = find_image_path(input_folder, filename)\n",
    "    if(full_path is not None):\n",
    "        try:\n",
    "            im = Image.open(full_path)\n",
    "            w, h = im.size\n",
    "            im = im.crop((50, 50, w - 50, h - 50)) # crop out metadata bands\n",
    "            im = im.resize((512, 512)) # reshape to smaller square image\n",
    "            im.save(output_folder + \"/Images/\" + filename)\n",
    "            final_metadata.append(datapoint)\n",
    "        except:\n",
    "            print(\"Could not Read image:\", full_path)\n",
    "\n",
    "metadata = final_metadata\n",
    "print(len(metadata))"
   ]
  },
  {
   "cell_type": "code",
   "execution_count": 17,
   "metadata": {},
   "outputs": [],
   "source": [
    "classNames = list(classes.keys())\n",
    "for i in range(len(metadata)):\n",
    "    metadata[i]['speciesID'] = classNames.index(metadata[i]['species'])"
   ]
  },
  {
   "cell_type": "code",
   "execution_count": 22,
   "metadata": {},
   "outputs": [],
   "source": [
    "d = {'categories': classNames, 'annotations': metadata}"
   ]
  },
  {
   "cell_type": "code",
   "execution_count": 23,
   "metadata": {},
   "outputs": [],
   "source": [
    "with open(output_folder + \"/metadata.json\", \"w\") as f: # save metadata file\n",
    "    json.dump(d, f)"
   ]
  }
 ],
 "metadata": {
  "kernelspec": {
   "display_name": "pytorch",
   "language": "python",
   "name": "python3"
  },
  "language_info": {
   "codemirror_mode": {
    "name": "ipython",
    "version": 3
   },
   "file_extension": ".py",
   "mimetype": "text/x-python",
   "name": "python",
   "nbconvert_exporter": "python",
   "pygments_lexer": "ipython3",
   "version": "3.8.16"
  },
  "orig_nbformat": 4,
  "vscode": {
   "interpreter": {
    "hash": "99bfdeab9a59a2d03c14a3f5a2de2013b3236fd3da331dd0b055e0d4adb67fe0"
   }
  }
 },
 "nbformat": 4,
 "nbformat_minor": 2
}
